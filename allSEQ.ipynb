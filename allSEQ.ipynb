{
 "cells": [
  {
   "cell_type": "markdown",
   "metadata": {},
   "source": [
    "`2021-05-04`\n",
    "\n",
    "This program loads waveforms from a .seq file and plots the pulse sequence "
   ]
  },
  {
   "cell_type": "code",
   "execution_count": 2,
   "metadata": {},
   "outputs": [],
   "source": [
    "using PyPlot"
   ]
  },
  {
   "cell_type": "markdown",
   "metadata": {},
   "source": [
    "## Defining structures"
   ]
  },
  {
   "cell_type": "markdown",
   "metadata": {},
   "source": [
    "Constant and unit"
   ]
  },
  {
   "cell_type": "code",
   "execution_count": 3,
   "metadata": {},
   "outputs": [],
   "source": [
    "const i = complex(0.,1.);"
   ]
  },
  {
   "cell_type": "markdown",
   "metadata": {},
   "source": [
    "Data structure"
   ]
  },
  {
   "cell_type": "code",
   "execution_count": 4,
   "metadata": {},
   "outputs": [],
   "source": [
    "struct RF{T<:AbstractFloat}\n",
    "    id::Int\n",
    "    mag_id::Int\n",
    "    phase_id::Int\n",
    "    inRotatingFrame::Bool\n",
    "    amplitude::T\n",
    "    frequencyOffset::T\n",
    "    phase::T\n",
    "    delay::Int\n",
    "    ω1_array::Array{T}\n",
    "end"
   ]
  },
  {
   "cell_type": "code",
   "execution_count": 5,
   "metadata": {},
   "outputs": [],
   "source": [
    "struct TRAP{T<:AbstractFloat}\n",
    "    id::Int\n",
    "    amplitude::T\n",
    "    rise::Int\n",
    "    flat::Int\n",
    "    fall::Int\n",
    "    delay::Int\n",
    "end"
   ]
  },
  {
   "cell_type": "code",
   "execution_count": 6,
   "metadata": {},
   "outputs": [],
   "source": [
    "struct DELAYS\n",
    "    id::Int\n",
    "    delay::Int\n",
    "end"
   ]
  },
  {
   "cell_type": "code",
   "execution_count": 7,
   "metadata": {},
   "outputs": [],
   "source": [
    "struct ADC\n",
    "    id::Int\n",
    "    num::Int\n",
    "    dwell::Int\n",
    "    delay::Int\n",
    "    freq::Float64\n",
    "    phase::Float64\n",
    "end"
   ]
  },
  {
   "cell_type": "code",
   "execution_count": 8,
   "metadata": {},
   "outputs": [],
   "source": [
    "struct BLOCKS\n",
    "    id::Int\n",
    "    D::Int\n",
    "    RF::Int\n",
    "    GX::Int\n",
    "    GY::Int\n",
    "    GZ::Int\n",
    "    ADC::Int\n",
    "    EXT::Int\n",
    "end"
   ]
  },
  {
   "cell_type": "markdown",
   "metadata": {},
   "source": [
    "## Selecting a seq file"
   ]
  },
  {
   "cell_type": "code",
   "execution_count": 9,
   "metadata": {},
   "outputs": [],
   "source": [
    "fileName = \"epi_se.seq\"\n",
    "info = readlines(fileName);"
   ]
  },
  {
   "cell_type": "markdown",
   "metadata": {},
   "source": [
    "## Loading BLOCKS from .seq file"
   ]
  },
  {
   "cell_type": "code",
   "execution_count": 10,
   "metadata": {},
   "outputs": [],
   "source": [
    "function addBLOCK(lineNumber)\n",
    "    tmp1 = info[lineNumber]\n",
    "    tmp2 = split(tmp1)\n",
    "    id = parse(Int,tmp2[1])\n",
    "    d0 = parse(Int,tmp2[2])\n",
    "    rf0 = parse(Int,tmp2[3])\n",
    "    gx0 = parse(Int,tmp2[4])\n",
    "    gy0 = parse(Int,tmp2[5])\n",
    "    gz0 = parse(Int,tmp2[6])\n",
    "    adc0 = parse(Int,tmp2[7])\n",
    "    ext0 = parse(Int,tmp2[8])\n",
    "    block1 = BLOCKS(id,d0,rf0,gx0,gy0,gz0,adc0,ext0);\n",
    "    return block1\n",
    "end;"
   ]
  },
  {
   "cell_type": "code",
   "execution_count": 11,
   "metadata": {},
   "outputs": [],
   "source": [
    "BLOCKlineNumber = 1\n",
    "while (info[BLOCKlineNumber] !=\"[BLOCKS]\")\n",
    "    global BLOCKlineNumber +=1\n",
    "end\n",
    "BLOCKlineNumber += 1\n",
    "BLOCKlineNumberEnd = BLOCKlineNumber\n",
    "while (info[BLOCKlineNumberEnd] !=\"\")\n",
    "    global BLOCKlineNumberEnd +=1\n",
    "end\n",
    "BLOCKlineNumberEnd -= 1;\n",
    "\n",
    "nn = BLOCKlineNumberEnd-BLOCKlineNumber+1\n",
    "BLOCKSarray = Array{BLOCKS,1}(undef, nn)\n",
    "for cnt = 1:nn\n",
    "    block1 = addBLOCK(BLOCKlineNumber+cnt-1)\n",
    "    BLOCKSarray[block1.id] = block1\n",
    "end"
   ]
  },
  {
   "cell_type": "markdown",
   "metadata": {},
   "source": [
    "## Loading ADC from .seq file"
   ]
  },
  {
   "cell_type": "code",
   "execution_count": 12,
   "metadata": {},
   "outputs": [],
   "source": [
    "function addADC(lineNumber)\n",
    "    tmp1 = info[lineNumber]\n",
    "    tmp2 = split(tmp1)\n",
    "    id = parse(Int,tmp2[1])\n",
    "    num = parse(Int,tmp2[2])\n",
    "    dwell = parse(Int,tmp2[3])\n",
    "    delay = parse(Int,tmp2[4])\n",
    "    freq = parse(Float64,tmp2[5])\n",
    "    phase = parse(Float64,tmp2[6])\n",
    "    adc1 = ADC(id, num, dwell, delay, freq, phase);\n",
    "    return adc1\n",
    "end;"
   ]
  },
  {
   "cell_type": "code",
   "execution_count": 13,
   "metadata": {},
   "outputs": [],
   "source": [
    "ADClineNumber = 1\n",
    "while (info[ADClineNumber] !=\"[ADC]\")&&(ADClineNumber<length(info))\n",
    "    global ADClineNumber +=1\n",
    "end\n",
    "if ADClineNumber<length(info)\n",
    "    ADClineNumber += 1\n",
    "    ADClineNumberEnd = ADClineNumber\n",
    "    while (info[ADClineNumberEnd] !=\"\")\n",
    "        global ADClineNumberEnd +=1\n",
    "    end\n",
    "    ADClineNumberEnd -= 1;\n",
    "\n",
    "    nn = ADClineNumberEnd-ADClineNumber+1\n",
    "    ADCarray = Array{ADC,1}(undef, nn)\n",
    "    for cnt = 1:nn\n",
    "        adc1 = addADC(ADClineNumber+cnt-1)\n",
    "        ADCarray[adc1.id] = adc1\n",
    "    end\n",
    "end"
   ]
  },
  {
   "cell_type": "markdown",
   "metadata": {},
   "source": [
    "## Loading DELAYS array from .seq file"
   ]
  },
  {
   "cell_type": "code",
   "execution_count": 14,
   "metadata": {},
   "outputs": [],
   "source": [
    "function addDELAYS(lineNumber)\n",
    "    tmp1 = info[lineNumber]\n",
    "    tmp2 = split(tmp1)\n",
    "    id = parse(Int,tmp2[1])\n",
    "    delay = parse(Int,tmp2[2])\n",
    "    delay1 = DELAYS(id, delay);\n",
    "    return delay1\n",
    "end;"
   ]
  },
  {
   "cell_type": "code",
   "execution_count": 15,
   "metadata": {},
   "outputs": [],
   "source": [
    "DELAYSlineNumber = 1\n",
    "while (info[DELAYSlineNumber] !=\"[DELAYS]\")&&(DELAYSlineNumber<length(info))\n",
    "    global DELAYSlineNumber +=1\n",
    "end\n",
    "if DELAYSlineNumber<length(info)\n",
    "    DELAYSlineNumber += 1\n",
    "    DELAYSlineNumberEnd = DELAYSlineNumber\n",
    "    while (info[DELAYSlineNumberEnd] !=\"\")\n",
    "        global DELAYSlineNumberEnd +=1\n",
    "    end\n",
    "    DELAYSlineNumberEnd -= 1;\n",
    "\n",
    "    nn = DELAYSlineNumberEnd-DELAYSlineNumber+1\n",
    "    DELAYSarray = Array{DELAYS,1}(undef, nn)\n",
    "    for cnt = 1:nn\n",
    "        delay1 = addDELAYS(DELAYSlineNumber+cnt-1)\n",
    "        DELAYSarray[delay1.id] = delay1\n",
    "    end\n",
    "end"
   ]
  },
  {
   "cell_type": "markdown",
   "metadata": {},
   "source": [
    "## Loading TRAP waveforms from .seq file"
   ]
  },
  {
   "cell_type": "code",
   "execution_count": 16,
   "metadata": {},
   "outputs": [],
   "source": [
    "function addTRAP(lineNumber)\n",
    "    tmp1 = info[lineNumber]\n",
    "    tmp2 = split(tmp1)\n",
    "    id = parse(Int,tmp2[1])\n",
    "    amplitude = parse(Float64,tmp2[2])\n",
    "    rise = parse(Int,tmp2[3])\n",
    "    flat = parse(Int,tmp2[4])\n",
    "    fall = parse(Int,tmp2[5])\n",
    "    delay = parse(Int,tmp2[6])\n",
    "    trap1 = TRAP{Float64}(id, amplitude, rise, flat, fall, delay);\n",
    "    return trap1\n",
    "end;"
   ]
  },
  {
   "cell_type": "code",
   "execution_count": 17,
   "metadata": {},
   "outputs": [],
   "source": [
    "TRAPlineNumber = 1\n",
    "while (info[TRAPlineNumber] !=\"[TRAP]\")&&(TRAPlineNumber<length(info))\n",
    "    global TRAPlineNumber +=1\n",
    "end\n",
    "if TRAPlineNumber<length(info)\n",
    "    TRAPlineNumber += 1\n",
    "    TRAPlineNumberEnd = TRAPlineNumber\n",
    "    while (info[TRAPlineNumberEnd] !=\"\")\n",
    "        global TRAPlineNumberEnd +=1\n",
    "    end\n",
    "    TRAPlineNumberEnd -= 1;\n",
    "\n",
    "    nn = TRAPlineNumberEnd-TRAPlineNumber+1\n",
    "    TRAParrays = Array{TRAP,1}(undef, nn)\n",
    "    for cnt = 1:nn\n",
    "        trap1 = addTRAP(TRAPlineNumber+cnt-1)\n",
    "        TRAParrays[trap1.id] = trap1\n",
    "    end\n",
    "end"
   ]
  },
  {
   "cell_type": "markdown",
   "metadata": {},
   "source": [
    "## Loading RF waveforms from .seq file"
   ]
  },
  {
   "cell_type": "code",
   "execution_count": 18,
   "metadata": {},
   "outputs": [],
   "source": [
    "function whereIsShapeID(shape_id)\n",
    "    linenumber=0;\n",
    "    for cnt = 1:length(info)\n",
    "        if occursin(\"shape_id\", info[cnt])\n",
    "            if parse(Int,split(info[cnt])[2]) == shape_id\n",
    "                linenumber = cnt;\n",
    "            end\n",
    "        end\n",
    "    end\n",
    "    return linenumber\n",
    "end\n",
    "\n",
    "function loadShape(shape_id)\n",
    "    linenumber = whereIsShapeID(shape_id)\n",
    "    tmp = split(info[linenumber+1])\n",
    "    rf1array= Float64[];\n",
    "    if tmp[1] == \"num_samples\"\n",
    "        waveform1_sampleN = parse(Int,tmp[2])\n",
    "        cnt = linenumber +2;\n",
    "        while (info[cnt] != \"\")\n",
    "            append!(rf1array, parse(Float64,info[cnt]))\n",
    "            cnt += 1;\n",
    "        end\n",
    "    end\n",
    "    rf1array_r1 = rf1array[1:2]\n",
    "    for cnt = 3:length(rf1array)\n",
    "        t2 = rf1array[cnt-2]\n",
    "        t1 = rf1array[cnt-1]\n",
    "        tcurrent = rf1array[cnt]\n",
    "        if (t1==t2)\n",
    "            t12 = repeat([t1], Int(tcurrent))\n",
    "            append!(rf1array_r1, t12)\n",
    "        else\n",
    "            append!(rf1array_r1, tcurrent)\n",
    "        end\n",
    "    end\n",
    "    shapeArray = cumsum(rf1array_r1,dims=1)\n",
    "    return shapeArray\n",
    "end;"
   ]
  },
  {
   "cell_type": "code",
   "execution_count": 19,
   "metadata": {},
   "outputs": [],
   "source": [
    "function addRF(lineNumber)\n",
    "    tmp1 = info[lineNumber]\n",
    "    tmp2 = split(tmp1)\n",
    "    id = parse(Int,tmp2[1])\n",
    "    amplitude = parse(Float64,tmp2[2])\n",
    "    mag_id = parse(Int,tmp2[3])\n",
    "    phase_id = parse(Int,tmp2[4])\n",
    "    delay = parse(Int,tmp2[5])\n",
    "    freq = parse(Float64,tmp2[6])\n",
    "    phase = parse(Float64,tmp2[7])\n",
    "    magShape = loadShape(mag_id)\n",
    "    phaseShape = loadShape(phase_id)\n",
    "    rf = magShape .* exp.(i*2*π.*phaseShape)\n",
    "    rfExcitation = RF{Float64}(id, mag_id, phase_id, true, amplitude, freq, phase, delay, real.(rf));\n",
    "    return rfExcitation\n",
    "end;"
   ]
  },
  {
   "cell_type": "code",
   "execution_count": 20,
   "metadata": {},
   "outputs": [],
   "source": [
    "RFlineNumber = 1\n",
    "while (info[RFlineNumber] !=\"[RF]\")&&(RFlineNumber<length(info))\n",
    "    global RFlineNumber +=1\n",
    "end\n",
    "if RFlineNumber<length(info)\n",
    "    RFlineNumber += 1\n",
    "    RFlineNumberEnd = RFlineNumber\n",
    "    while (info[RFlineNumberEnd] !=\"\")\n",
    "        global RFlineNumberEnd +=1\n",
    "    end\n",
    "    RFlineNumberEnd -= 1;\n",
    "\n",
    "    nn = RFlineNumberEnd-RFlineNumber+1\n",
    "    RFarrays = Array{RF,1}(undef, nn)\n",
    "    for cnt = 1:nn\n",
    "        rf1 = addRF(RFlineNumber+cnt-1)\n",
    "        RFarrays[rf1.id] = rf1\n",
    "    end\n",
    "end"
   ]
  },
  {
   "cell_type": "markdown",
   "metadata": {},
   "source": [
    "## Computing the duration for each BLOCK"
   ]
  },
  {
   "cell_type": "code",
   "execution_count": 22,
   "metadata": {},
   "outputs": [],
   "source": [
    "getDuration(x::RF) =  x.delay + length(x.ω1_array)\n",
    "getDuration(x::TRAP) = x.delay + x.rise + x.flat + x.fall\n",
    "getDuration(x::DELAYS) = x.delay\n",
    "getDuration(x::ADC) = x.delay + 0.001*(x.dwell * x.num)\n",
    "function getDuration(x::BLOCKS)\n",
    "    duration = 0;\n",
    "    fieldsInStruct=fieldnames(BLOCKS)\n",
    "    for cnt = 2: length(fieldsInStruct)\n",
    "        value=getfield(x, fieldsInStruct[cnt])\n",
    "        if value > 0\n",
    "            if cnt == 2 \n",
    "                duration = max(duration, getDuration(DELAYSarray[value]))\n",
    "            end\n",
    "            if cnt == 3 \n",
    "                duration = max(duration,getDuration(RFarrays[value]))\n",
    "            end\n",
    "            if cnt == 4 \n",
    "                duration = max(duration,getDuration(TRAParrays[value]))\n",
    "            end\n",
    "            if cnt == 5 \n",
    "                duration = max(duration,getDuration(TRAParrays[value]))\n",
    "            end\n",
    "            if cnt == 6 \n",
    "                duration = max(duration,getDuration(TRAParrays[value]))\n",
    "            end\n",
    "            if cnt == 7 \n",
    "                duration = max(duration,getDuration(ADCarray[value]))\n",
    "            end\n",
    "        end\n",
    "    end\n",
    "    return duration\n",
    "end;"
   ]
  },
  {
   "cell_type": "code",
   "execution_count": 23,
   "metadata": {},
   "outputs": [],
   "source": [
    "DurationArray = zeros(Int, length(BLOCKSarray));\n",
    "for cnt = 1:length(BLOCKSarray)\n",
    "    tmp = getDuration(BLOCKSarray[cnt])\n",
    "    DurationArray[cnt]=Int(ceil(tmp))\n",
    "end\n",
    "TimeStampArray = cumsum(DurationArray);"
   ]
  },
  {
   "cell_type": "markdown",
   "metadata": {},
   "source": [
    "## Plotting pulse sequence"
   ]
  },
  {
   "cell_type": "code",
   "execution_count": 24,
   "metadata": {},
   "outputs": [],
   "source": [
    "function plotEACH(x::TRAP, np)\n",
    "    output = zeros(np)\n",
    "    output[x.delay + 1 : x.delay + x.rise] = LinRange(0,x.amplitude,x.rise)\n",
    "    output[x.delay + x.rise + 1 : x.delay + x.rise + x.flat] .= x.amplitude\n",
    "    output[x.delay + x.rise + x.flat + 1 : x.delay + x.rise + x.flat + x.fall] = LinRange(x.amplitude,0,x.fall)\n",
    "    return output\n",
    "end\n",
    "\n",
    "function plotEACH(x::RF, np)\n",
    "    output = zeros(np)\n",
    "    output[x.delay + 1 : x.delay + length(x.ω1_array)] = x.ω1_array * x.amplitude\n",
    "    return output\n",
    "end\n",
    "\n",
    "function plotEACH(x::ADC, np)\n",
    "    output = zeros(np)\n",
    "    dw = div(x.dwell,1000)\n",
    "    output[x.delay + 1 : dw : x.delay + (dw*x.num)] .= 1. \n",
    "    return output\n",
    "end;\n"
   ]
  },
  {
   "cell_type": "code",
   "execution_count": 25,
   "metadata": {},
   "outputs": [],
   "source": [
    "seqRF = zeros(TimeStampArray[end])\n",
    "seqADC = zeros(TimeStampArray[end])\n",
    "seqGx = zeros(TimeStampArray[end])\n",
    "seqGy = zeros(TimeStampArray[end])\n",
    "seqGz = zeros(TimeStampArray[end])\n",
    "\n",
    "fieldsInStruct=fieldnames(BLOCKS)\n",
    "\n",
    "for cntB = 1:length(BLOCKSarray)\n",
    "    thisBLOCK = BLOCKSarray[cntB]\n",
    "    for cnt = 3: length(fieldsInStruct)\n",
    "        value=getfield(thisBLOCK, fieldsInStruct[cnt])\n",
    "        if value > 0\n",
    "            if cnt == 3 \n",
    "                tmp = plotEACH(RFarrays[value], DurationArray[cntB])\n",
    "                seqRF[TimeStampArray[cntB]-DurationArray[cntB]+1:TimeStampArray[cntB]] = tmp\n",
    "            end\n",
    "            if cnt == 4 \n",
    "                tmp = plotEACH(TRAParrays[value], DurationArray[cntB])\n",
    "                seqGx[TimeStampArray[cntB]-DurationArray[cntB]+1:TimeStampArray[cntB]] = tmp\n",
    "            end\n",
    "            if cnt == 5 \n",
    "                tmp = plotEACH(TRAParrays[value], DurationArray[cntB])\n",
    "                seqGy[TimeStampArray[cntB]-DurationArray[cntB]+1:TimeStampArray[cntB]] = tmp\n",
    "            end\n",
    "            if cnt == 6 \n",
    "                tmp = plotEACH(TRAParrays[value], DurationArray[cntB])\n",
    "                seqGz[TimeStampArray[cntB]-DurationArray[cntB]+1:TimeStampArray[cntB]] = tmp\n",
    "            end\n",
    "            if cnt == 7 \n",
    "                tmp = plotEACH(ADCarray[value], DurationArray[cntB])\n",
    "                seqADC[TimeStampArray[cntB]-DurationArray[cntB]+1:TimeStampArray[cntB]] = tmp\n",
    "            end\n",
    "        end\n",
    "    end \n",
    "end\n"
   ]
  },
  {
   "cell_type": "code",
   "execution_count": 28,
   "metadata": {},
   "outputs": [
    {
     "data": {
      "image/png": "[encoded data removed]",
      "text/plain": [
       "Figure(PyObject <Figure size 1500x800 with 5 Axes>)"
      ]
     },
     "metadata": {},
     "output_type": "display_data"
    }
   ],
   "source": [
    "figure(1, figsize=(15,8))\n",
    "subplot(5,1,1);\n",
    "plot(seqRF,color=\"g\"); title(\"RF: green; Gx: blue; Gy; red; Gz: black; ADC: yellow\")\n",
    "subplot(5,1,2);\n",
    "plot(seqGx, color=\"b\"); \n",
    "subplot(5,1,3);\n",
    "plot(seqGy, color=\"r\")\n",
    "subplot(5,1,4);\n",
    "plot(seqGz, color=\"k\")\n",
    "subplot(5,1,5);\n",
    "plot(seqADC, color=\"y\"); "
   ]
  },
  {
   "cell_type": "code",
   "execution_count": 29,
   "metadata": {},
   "outputs": [
    {
     "data": {
      "image/png": "[encoded data removed]",
      "text/plain": [
       "Figure(PyObject <Figure size 400x700 with 5 Axes>)"
      ]
     },
     "metadata": {},
     "output_type": "display_data"
    }
   ],
   "source": [
    "cntB = 96\n",
    "figure(1, figsize=(4,7))\n",
    "subplot(5,1,1);\n",
    "plot(seqRF[TimeStampArray[cntB]-DurationArray[cntB]+1:TimeStampArray[cntB]], color=\"g\"); \n",
    "title(\"RF: green; Gx: blue; Gy; red; Gz: black; ADC: yellow\")\n",
    "subplot(5,1,2);\n",
    "plot(seqGx[TimeStampArray[cntB]-DurationArray[cntB]+1:TimeStampArray[cntB]], color=\"b\"); \n",
    "subplot(5,1,3);\n",
    "plot(seqGy[TimeStampArray[cntB]-DurationArray[cntB]+1:TimeStampArray[cntB]], color=\"r\")\n",
    "subplot(5,1,4);\n",
    "plot(seqGz[TimeStampArray[cntB]-DurationArray[cntB]+1:TimeStampArray[cntB]], color=\"k\")\n",
    "subplot(5,1,5);\n",
    "plot(seqADC[TimeStampArray[cntB]-DurationArray[cntB]+1:TimeStampArray[cntB]], color=\"y\"); "
   ]
  },
  {
   "cell_type": "code",
   "execution_count": null,
   "metadata": {},
   "outputs": [],
   "source": []
  },
  {
   "cell_type": "code",
   "execution_count": null,
   "metadata": {},
   "outputs": [],
   "source": []
  }
 ],
 "metadata": {
  "kernelspec": {
   "display_name": "Julia 1.7.2",
   "language": "julia",
   "name": "julia-1.7"
  },
  "language_info": {
   "file_extension": ".jl",
   "mimetype": "application/julia",
   "name": "julia",
   "version": "1.7.2"
  }
 },
 "nbformat": 4,
 "nbformat_minor": 4
}
